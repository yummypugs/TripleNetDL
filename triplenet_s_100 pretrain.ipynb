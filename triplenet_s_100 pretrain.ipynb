{
 "cells": [
  {
   "cell_type": "code",
   "execution_count": 4,
   "metadata": {},
   "outputs": [
    {
     "name": "stdout",
     "output_type": "stream",
     "text": [
      "True\n"
     ]
    }
   ],
   "source": [
    "import torch\n",
    "\n",
    "print(torch.cuda.is_available())"
   ]
  },
  {
   "cell_type": "code",
   "execution_count": 5,
   "metadata": {},
   "outputs": [
    {
     "name": "stdout",
     "output_type": "stream",
     "text": [
      "Files already downloaded and verified\n",
      "Files already downloaded and verified\n",
      "The model has 8965434 trainable parameters.\n",
      "\n",
      "===> epoch: 1/200\n",
      "train:\n",
      " 500/500 [================================================================================>]  Step: 65ms | Tot: 33s193ms | Loss: 0.0181 | Acc: 99.460% (49730/50000)[==================================================================>.............]  Step: 66ms | Tot: 27s690ms | Loss: 0.0181 | Acc: 99.463% (41476/41700) [============================================================================>...]  Step: 66ms | Tot: 31s536ms | Loss: 0.0181 | Acc: 99.463% (47245/47500) [===============================================================================>]  Step: 67ms | Tot: 32s863ms | Loss: 0.0182 | Acc: 99.461% (49233/49500)\n",
      "(9.06446251205216, 0.9946)\n",
      "test:\n",
      " 100/100 [================================================================================>]  Step: 20ms | Tot: 1s973ms | Loss: 1.1581 | Acc: 84.330% (8433/10000)\n",
      "===> BEST ACC. PERFORMANCE: 84.330%\n",
      "Checkpoint saved to model_pretrain.pth\n"
     ]
    }
   ],
   "source": [
    "%run cifar10triplenet\\main_pretrain.py"
   ]
  },
  {
   "cell_type": "code",
   "execution_count": 6,
   "metadata": {},
   "outputs": [
    {
     "name": "stdout",
     "output_type": "stream",
     "text": [
      "Files already downloaded and verified\n",
      "Files already downloaded and verified\n",
      "The model has 8965434 trainable parameters.\n",
      "\n",
      "===> epoch: 1/200\n",
      "train:\n",
      " 500/500 [================================================================================>]  Step: 66ms | Tot: 33s318ms | Loss: 0.0206 | Acc: 99.396% (49698/50000)======================>.........................................................]  Step: 72ms | Tot: 9s458ms | Loss: 0.0126 | Acc: 99.662% (13853/13900) [======================================================================>.........]  Step: 66ms | Tot: 29s369ms | Loss: 0.0213 | Acc: 99.386% (43730/44000)\n",
      "(10.281602007139782, 0.99396)\n",
      "test:\n",
      " 100/100 [================================================================================>]  Step: 20ms | Tot: 1s958ms | Loss: 1.0491 | Acc: 84.780% (8478/10000)\n",
      "===> BEST ACC. PERFORMANCE: 84.780%\n",
      "Checkpoint saved to model_pretrain.pth\n"
     ]
    }
   ],
   "source": [
    "%run cifar10triplenet\\main_pretrain.py"
   ]
  }
 ],
 "metadata": {
  "kernelspec": {
   "display_name": "triplenet",
   "language": "python",
   "name": "python3"
  },
  "language_info": {
   "codemirror_mode": {
    "name": "ipython",
    "version": 3
   },
   "file_extension": ".py",
   "mimetype": "text/x-python",
   "name": "python",
   "nbconvert_exporter": "python",
   "pygments_lexer": "ipython3",
   "version": "3.9.2"
  }
 },
 "nbformat": 4,
 "nbformat_minor": 2
}
